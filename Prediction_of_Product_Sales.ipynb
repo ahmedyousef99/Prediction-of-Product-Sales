{
  "nbformat": 4,
  "nbformat_minor": 0,
  "metadata": {
    "colab": {
      "provenance": [],
      "authorship_tag": "ABX9TyMfFSP+Vq5SJvNQui/WKWlr",
      "include_colab_link": true
    },
    "kernelspec": {
      "name": "python3",
      "display_name": "Python 3"
    },
    "language_info": {
      "name": "python"
    }
  },
  "cells": [
    {
      "cell_type": "markdown",
      "metadata": {
        "id": "view-in-github",
        "colab_type": "text"
      },
      "source": [
        "<a href=\"https://colab.research.google.com/github/ahmedyousef99/Prediction-of-Product-Sales/blob/master/Prediction_of_Product_Sales.ipynb\" target=\"_parent\"><img src=\"https://colab.research.google.com/assets/colab-badge.svg\" alt=\"Open In Colab\"/></a>"
      ]
    },
    {
      "cell_type": "markdown",
      "source": [
        "[link text](https://)"
      ],
      "metadata": {
        "id": "JVSrExOkE_n7"
      }
    },
    {
      "cell_type": "markdown",
      "source": [
        "# Project Title: Prediction of Product Sales\n",
        "- Author: Ahmed Omar Yousef\n",
        "\n",
        "## Project Overview"
      ],
      "metadata": {
        "id": "PZG37F_VFGV-"
      }
    },
    {
      "cell_type": "code",
      "source": [],
      "metadata": {
        "id": "7iWFlG5bIpm-"
      },
      "execution_count": null,
      "outputs": []
    },
    {
      "cell_type": "markdown",
      "source": [
        "## Load and Inspect Data\n"
      ],
      "metadata": {
        "id": "BwZzRr5pIMF6"
      }
    },
    {
      "cell_type": "code",
      "source": [],
      "metadata": {
        "id": "o1Iz9YHCIqSn"
      },
      "execution_count": null,
      "outputs": []
    },
    {
      "cell_type": "markdown",
      "source": [
        "## Clean Data\n"
      ],
      "metadata": {
        "id": "sP4T1fu6IRgB"
      }
    },
    {
      "cell_type": "code",
      "source": [],
      "metadata": {
        "id": "EfXOdyxVIq1w"
      },
      "execution_count": null,
      "outputs": []
    },
    {
      "cell_type": "markdown",
      "source": [
        "## Exploratory Data Analysis\n"
      ],
      "metadata": {
        "id": "3BFYeVXzIT6H"
      }
    },
    {
      "cell_type": "code",
      "source": [],
      "metadata": {
        "id": "AFedqM5jIrXn"
      },
      "execution_count": null,
      "outputs": []
    },
    {
      "cell_type": "markdown",
      "source": [
        "## Feature Inspection\n"
      ],
      "metadata": {
        "id": "RMmyHAJZIWpP"
      }
    },
    {
      "cell_type": "code",
      "source": [],
      "metadata": {
        "id": "oYbqE99hIr1H"
      },
      "execution_count": null,
      "outputs": []
    }
  ]
}