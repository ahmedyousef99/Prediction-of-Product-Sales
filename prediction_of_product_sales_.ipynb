{
  "nbformat": 4,
  "nbformat_minor": 0,
  "metadata": {
    "colab": {
      "provenance": [],
      "authorship_tag": "ABX9TyOPfPU2X4QguoaBzzP2LRUV",
      "include_colab_link": true
    },
    "kernelspec": {
      "name": "python3",
      "display_name": "Python 3"
    },
    "language_info": {
      "name": "python"
    }
  },
  "cells": [
    {
      "cell_type": "markdown",
      "metadata": {
        "id": "view-in-github",
        "colab_type": "text"
      },
      "source": [
        "<a href=\"https://colab.research.google.com/github/ahmedyousef99/Prediction-of-Product-Sales/blob/master/prediction_of_product_sales_.ipynb\" target=\"_parent\"><img src=\"https://colab.research.google.com/assets/colab-badge.svg\" alt=\"Open In Colab\"/></a>"
      ]
    },
    {
      "cell_type": "markdown",
      "source": [],
      "metadata": {
        "id": "YnZmKF436-2D"
      }
    },
    {
      "cell_type": "markdown",
      "source": [
        "# Prediction of Product Sales"
      ],
      "metadata": {
        "id": "OYbZeFWg60Lk"
      }
    },
    {
      "cell_type": "markdown",
      "source": [
        "- Author: Ahmed Yousef"
      ],
      "metadata": {
        "id": "eprdTrkO63SF"
      }
    },
    {
      "cell_type": "markdown",
      "source": [
        "## Load and Inspect Data"
      ],
      "metadata": {
        "id": "PbCll-WY7Aw8"
      }
    },
    {
      "cell_type": "markdown",
      "source": [],
      "metadata": {
        "id": "ZfyBtxsT66U0"
      }
    },
    {
      "cell_type": "code",
      "source": [],
      "metadata": {
        "id": "7y2X8qN47RVq"
      },
      "execution_count": null,
      "outputs": []
    },
    {
      "cell_type": "markdown",
      "source": [
        "## Clean Data"
      ],
      "metadata": {
        "id": "KgASh2ly7Krm"
      }
    },
    {
      "cell_type": "code",
      "source": [],
      "metadata": {
        "id": "sph-pJh47YHt"
      },
      "execution_count": null,
      "outputs": []
    },
    {
      "cell_type": "markdown",
      "source": [],
      "metadata": {
        "id": "-PXAnXx07WIM"
      }
    },
    {
      "cell_type": "markdown",
      "source": [
        "## Exploratory Data Analysis"
      ],
      "metadata": {
        "id": "FfHGh99l7Y_E"
      }
    },
    {
      "cell_type": "code",
      "source": [],
      "metadata": {
        "id": "2uFFhsEK7bpE"
      },
      "execution_count": null,
      "outputs": []
    },
    {
      "cell_type": "markdown",
      "source": [
        "## Feature Inspection"
      ],
      "metadata": {
        "id": "MksJ0Bu77cd8"
      }
    },
    {
      "cell_type": "code",
      "source": [],
      "metadata": {
        "id": "F98ruCnz7d4y"
      },
      "execution_count": null,
      "outputs": []
    }
  ]
}